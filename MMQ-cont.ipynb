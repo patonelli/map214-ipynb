{
 "metadata": {
  "name": "",
  "signature": "sha256:ceee295a6b189d0f91ad6cc6e8dc09f8ed33510bfcb6cdd4818a6fc5d4c794bc"
 },
 "nbformat": 3,
 "nbformat_minor": 0,
 "worksheets": [
  {
   "cells": [
    {
     "cell_type": "markdown",
     "metadata": {},
     "source": [
      "# Aproxima\u00e7\u00e3o de fun\u00e7\u00f5es pelo  m\u00e9todo dos m\u00ednimos quadrados\n",
      "\n",
      "Vamos substituir a tabela $T$ por uma fun\u00e7\u00e3o $f:[a,b]\\to \\mathbb{R}$ e tomar uma fam\u00edlia de fun\u00e7\u00f5es $\\mathbf{F}=\\{ f_1, \\dots f_n\\}$, todas definidas no intervalo $[a,b]$. E considerar o problema de encontrar os coeficientes $a_1,\\dots,a_n$ que minimize o\n",
      "res\u00edduo quadr\u00e1tico $\\text{Res}(f,a_1,\\dots,a_n) = \\int_a^b(\\sum a_if_i(x) -f(x))^2 dx$.\n",
      "De modo parecido ao caso discreto resolvemos este problema ao solucionar  o  sistema normal associado:\n",
      "$$ Ax=b$$  \n",
      "onde as componentes da matriz de coeficientes s\u00e3o:\n",
      "$$ \\begin{gather} a_{ij} = \\langle f_i, f_j \\rangle = \\int_a^b f_i(x)f_j(x)dx\\\\\n",
      "b_i = \\langle f , f_i \\rangle = \\int_a^b f_i(x)f_j(x)dx \\end{gather} $$"
     ]
    },
    {
     "cell_type": "markdown",
     "metadata": {},
     "source": [
      "### Exemplo\n",
      "Achar uma aproxima\u00e7\u00e3o de $f(x) = \\sin(x)$ por um polin\u00f4mio menor ou igual a tr\u00eas no intervalo $[-\\pi,\\pi]$."
     ]
    },
    {
     "cell_type": "code",
     "collapsed": false,
     "input": [
      "#Uma boa oportunidade para usar o sympy!\n",
      "import sympy as sp\n",
      "from sympy.interactive import printing\n",
      "printing.init_printing()\n",
      "x, y, z = sp.symbols(\"x y z\")\n",
      "f, g, h = map(sp.Function, 'fgh')\n",
      "f1 = map(sp.Function, 'f1')\n",
      "f2 = map(sp.Function, 'f2')\n",
      "f3 = map(sp.Function, 'f3')\n",
      "f4 = map(sp.Function, 'f4')\n",
      "f = sp.sin(x)\n",
      "f1 = 1\n",
      "f2 = x\n",
      "f3= x**2\n",
      "f4= x**3\n"
     ],
     "language": "python",
     "metadata": {},
     "outputs": [],
     "prompt_number": 4
    },
    {
     "cell_type": "markdown",
     "metadata": {},
     "source": [
      "* C\u00e1lculo do sistema normal"
     ]
    },
    {
     "cell_type": "code",
     "collapsed": false,
     "input": [
      "def escalar(f,g):\n",
      "    ''' produto de duas fun\u00e7\u00f5es entre -Pi e Pi '''\n",
      "    return sp.integrate(f*g,(x,-sp.pi,sp.pi))"
     ],
     "language": "python",
     "metadata": {},
     "outputs": [],
     "prompt_number": 5
    },
    {
     "cell_type": "code",
     "collapsed": false,
     "input": [
      "sp.integrate(f1*f3,(x,0,1))"
     ],
     "language": "python",
     "metadata": {},
     "outputs": [
      {
       "latex": [
        "$$\\frac{1}{3}$$"
       ],
       "metadata": {},
       "output_type": "pyout",
       "png": "[encoded data removed]",
       "prompt_number": 6,
       "text": [
        "1/3"
       ]
      }
     ],
     "prompt_number": 6
    },
    {
     "cell_type": "code",
     "collapsed": false,
     "input": [
      "escalar(f1,f1)"
     ],
     "language": "python",
     "metadata": {},
     "outputs": [
      {
       "latex": [
        "$$2 \\pi$$"
       ],
       "metadata": {},
       "output_type": "pyout",
       "png": "[encoded data removed]",
       "prompt_number": 7,
       "text": [
        "2\u22c5\u03c0"
       ]
      }
     ],
     "prompt_number": 7
    },
    {
     "cell_type": "code",
     "collapsed": false,
     "input": [
      "escalar(f1,f2)"
     ],
     "language": "python",
     "metadata": {},
     "outputs": [
      {
       "latex": [
        "$$0$$"
       ],
       "metadata": {},
       "output_type": "pyout",
       "png": "[encoded data removed]",
       "prompt_number": 8,
       "text": [
        "0"
       ]
      }
     ],
     "prompt_number": 8
    },
    {
     "cell_type": "code",
     "collapsed": false,
     "input": [
      "escalar(f1,f3)"
     ],
     "language": "python",
     "metadata": {},
     "outputs": [
      {
       "latex": [
        "$$\\frac{2 \\pi^{3}}{3}$$"
       ],
       "metadata": {},
       "output_type": "pyout",
       "png": "[encoded data removed]",
       "prompt_number": 9,
       "text": [
        "   3\n",
        "2\u22c5\u03c0 \n",
        "\u2500\u2500\u2500\u2500\n",
        " 3  "
       ]
      }
     ],
     "prompt_number": 9
    },
    {
     "cell_type": "code",
     "collapsed": false,
     "input": [
      "escalar(f1,f4)"
     ],
     "language": "python",
     "metadata": {},
     "outputs": [
      {
       "latex": [
        "$$0$$"
       ],
       "metadata": {},
       "output_type": "pyout",
       "png": "[encoded data removed]",
       "prompt_number": 10,
       "text": [
        "0"
       ]
      }
     ],
     "prompt_number": 10
    },
    {
     "cell_type": "code",
     "collapsed": false,
     "input": [
      "escalar(f2,f2)"
     ],
     "language": "python",
     "metadata": {},
     "outputs": [
      {
       "latex": [
        "$$\\frac{2 \\pi^{3}}{3}$$"
       ],
       "metadata": {},
       "output_type": "pyout",
       "png": "[encoded data removed]",
       "prompt_number": 11,
       "text": [
        "   3\n",
        "2\u22c5\u03c0 \n",
        "\u2500\u2500\u2500\u2500\n",
        " 3  "
       ]
      }
     ],
     "prompt_number": 11
    },
    {
     "cell_type": "code",
     "collapsed": false,
     "input": [
      "escalar(f2,f3)"
     ],
     "language": "python",
     "metadata": {},
     "outputs": [
      {
       "latex": [
        "$$0$$"
       ],
       "metadata": {},
       "output_type": "pyout",
       "png": "[encoded data removed]",
       "prompt_number": 12,
       "text": [
        "0"
       ]
      }
     ],
     "prompt_number": 12
    },
    {
     "cell_type": "code",
     "collapsed": false,
     "input": [
      "escalar(f2,f4)"
     ],
     "language": "python",
     "metadata": {},
     "outputs": [
      {
       "latex": [
        "$$\\frac{2 \\pi^{5}}{5}$$"
       ],
       "metadata": {},
       "output_type": "pyout",
       "png": "[encoded data removed]",
       "prompt_number": 13,
       "text": [
        "   5\n",
        "2\u22c5\u03c0 \n",
        "\u2500\u2500\u2500\u2500\n",
        " 5  "
       ]
      }
     ],
     "prompt_number": 13
    },
    {
     "cell_type": "code",
     "collapsed": false,
     "input": [
      "escalar(f3,f3)"
     ],
     "language": "python",
     "metadata": {},
     "outputs": [
      {
       "latex": [
        "$$\\frac{2 \\pi^{5}}{5}$$"
       ],
       "metadata": {},
       "output_type": "pyout",
       "png": "[encoded data removed]",
       "prompt_number": 14,
       "text": [
        "   5\n",
        "2\u22c5\u03c0 \n",
        "\u2500\u2500\u2500\u2500\n",
        " 5  "
       ]
      }
     ],
     "prompt_number": 14
    },
    {
     "cell_type": "code",
     "collapsed": false,
     "input": [
      "escalar(f3,f4)"
     ],
     "language": "python",
     "metadata": {},
     "outputs": [
      {
       "latex": [
        "$$0$$"
       ],
       "metadata": {},
       "output_type": "pyout",
       "png": "[encoded data removed]",
       "prompt_number": 15,
       "text": [
        "0"
       ]
      }
     ],
     "prompt_number": 15
    },
    {
     "cell_type": "code",
     "collapsed": false,
     "input": [
      "escalar(f4,f4)"
     ],
     "language": "python",
     "metadata": {},
     "outputs": [
      {
       "latex": [
        "$$\\frac{2 \\pi^{7}}{7}$$"
       ],
       "metadata": {},
       "output_type": "pyout",
       "png": "[encoded data removed]",
       "prompt_number": 16,
       "text": [
        "   7\n",
        "2\u22c5\u03c0 \n",
        "\u2500\u2500\u2500\u2500\n",
        " 7  "
       ]
      }
     ],
     "prompt_number": 16
    },
    {
     "cell_type": "code",
     "collapsed": false,
     "input": [
      "escalar(f,f1)"
     ],
     "language": "python",
     "metadata": {},
     "outputs": [
      {
       "latex": [
        "$$0$$"
       ],
       "metadata": {},
       "output_type": "pyout",
       "png": "[encoded data removed]",
       "prompt_number": 17,
       "text": [
        "0"
       ]
      }
     ],
     "prompt_number": 17
    },
    {
     "cell_type": "code",
     "collapsed": false,
     "input": [
      "escalar(f,f2)"
     ],
     "language": "python",
     "metadata": {},
     "outputs": [
      {
       "latex": [
        "$$2 \\pi$$"
       ],
       "metadata": {},
       "output_type": "pyout",
       "png": "[encoded data removed]",
       "prompt_number": 18,
       "text": [
        "2\u22c5\u03c0"
       ]
      }
     ],
     "prompt_number": 18
    },
    {
     "cell_type": "code",
     "collapsed": false,
     "input": [
      "escalar(f,f3)"
     ],
     "language": "python",
     "metadata": {},
     "outputs": [
      {
       "latex": [
        "$$0$$"
       ],
       "metadata": {},
       "output_type": "pyout",
       "png": "[encoded data removed]",
       "prompt_number": 19,
       "text": [
        "0"
       ]
      }
     ],
     "prompt_number": 19
    },
    {
     "cell_type": "code",
     "collapsed": false,
     "input": [
      "escalar(f,f4)"
     ],
     "language": "python",
     "metadata": {},
     "outputs": [
      {
       "latex": [
        "$$- 12 \\pi + 2 \\pi^{3}$$"
       ],
       "metadata": {},
       "output_type": "pyout",
       "png": "[encoded data removed]",
       "prompt_number": 20,
       "text": [
        "           3\n",
        "-12\u22c5\u03c0 + 2\u22c5\u03c0 "
       ]
      }
     ],
     "prompt_number": 20
    },
    {
     "cell_type": "code",
     "collapsed": false,
     "input": [
      "F = [f1,f2,f3,f4]"
     ],
     "language": "python",
     "metadata": {},
     "outputs": [],
     "prompt_number": 21
    },
    {
     "cell_type": "code",
     "collapsed": false,
     "input": [
      "A1 = [escalar(f1,g) for g in F]\n",
      "A2 = [escalar(f2,g) for g in F]\n",
      "A3 = [escalar(f3,g) for g in F]\n",
      "A4 = [escalar(f4,g) for g in F]\n",
      "A = sp.Matrix([A1,A2,A3,A4])\n",
      "A"
     ],
     "language": "python",
     "metadata": {},
     "outputs": [
      {
       "latex": [
        "$$\\left[\\begin{matrix}2 \\pi & 0 & \\frac{2 \\pi^{3}}{3} & 0\\\\0 & \\frac{2 \\pi^{3}}{3} & 0 & \\frac{2 \\pi^{5}}{5}\\\\\\frac{2 \\pi^{3}}{3} & 0 & \\frac{2 \\pi^{5}}{5} & 0\\\\0 & \\frac{2 \\pi^{5}}{5} & 0 & \\frac{2 \\pi^{7}}{7}\\end{matrix}\\right]$$"
       ],
       "metadata": {},
       "output_type": "pyout",
       "png": "[encoded data removed]",
       "prompt_number": 22,
       "text": [
        "\u23a1               3      \u23a4\n",
        "\u23a2            2\u22c5\u03c0       \u23a5\n",
        "\u23a22\u22c5\u03c0    0    \u2500\u2500\u2500\u2500   0  \u23a5\n",
        "\u23a2             3        \u23a5\n",
        "\u23a2                      \u23a5\n",
        "\u23a2         3           5\u23a5\n",
        "\u23a2      2\u22c5\u03c0         2\u22c5\u03c0 \u23a5\n",
        "\u23a2 0    \u2500\u2500\u2500\u2500   0    \u2500\u2500\u2500\u2500\u23a5\n",
        "\u23a2       3           5  \u23a5\n",
        "\u23a2                      \u23a5\n",
        "\u23a2   3           5      \u23a5\n",
        "\u23a22\u22c5\u03c0         2\u22c5\u03c0       \u23a5\n",
        "\u23a2\u2500\u2500\u2500\u2500   0    \u2500\u2500\u2500\u2500   0  \u23a5\n",
        "\u23a2 3           5        \u23a5\n",
        "\u23a2                      \u23a5\n",
        "\u23a2         5           7\u23a5\n",
        "\u23a2      2\u22c5\u03c0         2\u22c5\u03c0 \u23a5\n",
        "\u23a2 0    \u2500\u2500\u2500\u2500   0    \u2500\u2500\u2500\u2500\u23a5\n",
        "\u23a3       5           7  \u23a6"
       ]
      }
     ],
     "prompt_number": 22
    },
    {
     "cell_type": "code",
     "collapsed": false,
     "input": [
      "b=sp.Matrix([escalar(f,g) for g in F])\n",
      "b"
     ],
     "language": "python",
     "metadata": {},
     "outputs": [
      {
       "latex": [
        "$$\\left[\\begin{matrix}0\\\\2 \\pi\\\\0\\\\- 12 \\pi + 2 \\pi^{3}\\end{matrix}\\right]$$"
       ],
       "metadata": {},
       "output_type": "pyout",
       "png": "[encoded data removed]",
       "prompt_number": 23,
       "text": [
        "\u23a1     0      \u23a4\n",
        "\u23a2            \u23a5\n",
        "\u23a2    2\u22c5\u03c0     \u23a5\n",
        "\u23a2            \u23a5\n",
        "\u23a2     0      \u23a5\n",
        "\u23a2            \u23a5\n",
        "\u23a2           3\u23a5\n",
        "\u23a3-12\u22c5\u03c0 + 2\u22c5\u03c0 \u23a6"
       ]
      }
     ],
     "prompt_number": 23
    },
    {
     "cell_type": "code",
     "collapsed": false,
     "input": [
      "a = A**(-1)*b\n",
      "a"
     ],
     "language": "python",
     "metadata": {},
     "outputs": [
      {
       "latex": [
        "$$\\left[\\begin{matrix}0\\\\- \\frac{1}{8 \\pi^{5}} \\left(- 1260 \\pi + 210 \\pi^{3}\\right) + \\frac{75}{4 \\pi^{2}}\\\\0\\\\- \\frac{105}{4 \\pi^{4}} + \\frac{1}{8 \\pi^{7}} \\left(- 2100 \\pi + 350 \\pi^{3}\\right)\\end{matrix}\\right]$$"
       ],
       "metadata": {},
       "output_type": "pyout",
       "png": "[encoded data removed]",
       "prompt_number": 24,
       "text": [
        "\u23a1             0             \u23a4\n",
        "\u23a2                           \u23a5\n",
        "\u23a2      \u239b           3\u239e       \u23a5\n",
        "\u23a2  105\u22c5\u239d-12\u22c5\u03c0 + 2\u22c5\u03c0 \u23a0    75 \u23a5\n",
        "\u23a2- \u2500\u2500\u2500\u2500\u2500\u2500\u2500\u2500\u2500\u2500\u2500\u2500\u2500\u2500\u2500\u2500\u2500\u2500 + \u2500\u2500\u2500\u2500\u23a5\n",
        "\u23a2            5             2\u23a5\n",
        "\u23a2         8\u22c5\u03c0           4\u22c5\u03c0 \u23a5\n",
        "\u23a2                           \u23a5\n",
        "\u23a2             0             \u23a5\n",
        "\u23a2                           \u23a5\n",
        "\u23a2             \u239b           3\u239e\u23a5\n",
        "\u23a2  105    175\u22c5\u239d-12\u22c5\u03c0 + 2\u22c5\u03c0 \u23a0\u23a5\n",
        "\u23a2- \u2500\u2500\u2500\u2500 + \u2500\u2500\u2500\u2500\u2500\u2500\u2500\u2500\u2500\u2500\u2500\u2500\u2500\u2500\u2500\u2500\u2500\u2500\u23a5\n",
        "\u23a2     4             7       \u23a5\n",
        "\u23a3  4\u22c5\u03c0           8\u22c5\u03c0        \u23a6"
       ]
      }
     ],
     "prompt_number": 24
    },
    {
     "cell_type": "code",
     "collapsed": false,
     "input": [
      "sp.N(a[1])"
     ],
     "language": "python",
     "metadata": {},
     "outputs": [
      {
       "latex": [
        "$$0.85698332779525$$"
       ],
       "metadata": {},
       "output_type": "pyout",
       "png": "[encoded data removed]",
       "prompt_number": 26,
       "text": [
        "0.856983327795250"
       ]
      }
     ],
     "prompt_number": 26
    },
    {
     "cell_type": "code",
     "collapsed": false,
     "input": [
      "sp.N(a[3])"
     ],
     "language": "python",
     "metadata": {},
     "outputs": [
      {
       "latex": [
        "$$-0.0933876972831854$$"
       ],
       "metadata": {},
       "output_type": "pyout",
       "png": "[encoded data removed]",
       "prompt_number": 27,
       "text": [
        "-0.0933876972831854"
       ]
      }
     ],
     "prompt_number": 27
    },
    {
     "cell_type": "code",
     "collapsed": false,
     "input": [],
     "language": "python",
     "metadata": {},
     "outputs": []
    }
   ],
   "metadata": {}
  }
 ]
}