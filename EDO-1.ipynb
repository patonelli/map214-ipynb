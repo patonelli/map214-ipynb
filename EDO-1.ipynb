{
 "metadata": {
  "name": "",
  "signature": "sha256:f0e453067d8f22ed02506d250c8d5d41b26d60824cb7a746a702825ce0742417"
 },
 "nbformat": 3,
 "nbformat_minor": 0,
 "worksheets": [
  {
   "cells": [
    {
     "cell_type": "markdown",
     "metadata": {},
     "source": [
      "# O problema de Equa\u00e7\u00f5es Diferenciais Ordin\u00e1rias\n",
      "\n",
      "A descri\u00e7\u00e3o de muitos fen\u00f4menos f\u00edsicos e dada por rela\u00e7\u00f5es entre quantidades representadas matem\u00e1ticamente por vari\u00e1veis num\u00e9ricas. Em geral busca-se expressar uma vari\u00e1vel, chamada dependente, em fun\u00e7\u00e3o de uma outra vari\u00e1vel, dita independente.\n",
      "Um exemplo cl\u00e1ssico vem da mec\u00e2nica, onde o estado de um sistema depende da vari\u00e1vel independente tempo. \n",
      "\n",
      "As leis que regem os fen\u00f4menos naturais, no entanto, n\u00e3o expressam diretamente qual \u00e9 a fun\u00e7\u00e3o procurada, mas informam qual \u00e9 a rela\u00e7\u00e3o deste fun\u00e7\u00e3o procurada e suas derivadas, por exemplo.\n",
      "O problema geral, do ponto de vista matem\u00e1tico, \u00e9:\n",
      "\n",
      "* Encontrar uma fun\u00e7\u00e3o $x:[a,b] \\to \\mathbb{R}$ que satisfa\u00e7a a rela\u00e7\u00e3o $F(x^{(n)}, \\dots, x^{(1)},x,t)=0$\n",
      "\n",
      "Onde $t$ \u00e9 a vari\u00e1vel independente e $x^{(i)}$ \u00e9 a $i$-\u00e9sima derivada de $x$ em rela\u00e7\u00e3o a $t$. A equa\u00e7\u00e3o desta forma \u00e9 uma equa\u00e7\u00e3o diferencial ordin\u00e1ria de ordem $n$. Por exemplo, a segunda lei de Newton da mec\u00e2nica cl\u00e1ssica: $\\ddot{x}-f(x,\\dot{x},t) =0$, \u00e9 uma equa\u00e7\u00e3o diferencial ordin\u00e1ria de segunda ordem."
     ]
    },
    {
     "cell_type": "markdown",
     "metadata": {},
     "source": [
      "## EDOs expl\u00edcitas de primeira ordem\n",
      "Vamos estudar apenas determinados casos de EDOs. A primeira classe que estudaremos, e para a qual desenvolveremos algoritmos s\u00e3o as *equa\u00e7\u00f5es explitas de primeira ordem* neste caso temos que a rela\u00e7\u00e3o entre a derivada de uma fun\u00e7\u00e3o real $x(t)$ e as vari\u00e1veis dependente e independente \u00e9\n",
      "$$ \\dot{x}(t) = f(x(t),t) $$\n",
      "onde $f: \\Omega \\to \\mathbb{R}$ \u00e9 uma fun\u00e7\u00e3o e $\\Omega \\subset \\mathbb{R}^2$ \u00e9 um dom\u00ednio aberto."
     ]
    },
    {
     "cell_type": "markdown",
     "metadata": {},
     "source": []
    }
   ],
   "metadata": {}
  }
 ]
}