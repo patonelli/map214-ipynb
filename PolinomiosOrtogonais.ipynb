{
 "metadata": {
  "name": "",
  "signature": "sha256:a3791ddc857772ef3ddb8032031871a8b960d873d5539bc51fe389b617465b58"
 },
 "nbformat": 3,
 "nbformat_minor": 0,
 "worksheets": [
  {
   "cells": [
    {
     "cell_type": "markdown",
     "metadata": {},
     "source": [
      "# Polin\u00f4mios ortogonais\n",
      "Uma fam\u00edlia importante de fun\u00e7\u00f5es para aproximar uma tabela s\u00e3o os polin\u00f4mios de grau menor ou igual a $n$.  Vamos considerar, primeiro, uma tabela de pontos $T=\\{(x_0,y_0),\\dots ,(x_k,y_k)\\}$ diremos que o conjunto $\\{p_0(x),\\dots, p_n(x)\\}$ \u00e9 uma fam\u00edlia de polin\u00f4mios ortogonais, em rela\u00e7\u00e3o \u00e0 tabela $T$ se\n",
      "\n",
      "* $p_i(x)$ \u00e9 um polin\u00f4mio de grau $i$\n",
      "* A fam\u00edlia \u00e9 ortogonal, ou seja, $\\langle p_i,p_j \\rangle = 0$ se $i\\neq j$ e $\\langle p_i,p_i \\rangle > 0$.\n",
      "\n",
      "Note que estas condi\u00e7\u00f5es s\u00f3 podem estar atendidas, no caso de $n\\leq k$.\n",
      "\n",
      "A fam\u00edlia de polin\u00f4mios ortogonais \u00e9 de *polin\u00f4mios m\u00f4nicos* se  $p_i = x^i + q_i(x)$ onde $q_i$ \u00e9 um polin\u00f4mios de grau menor ou igual a $i-1$. \n",
      "\n",
      "**Teorema:** Uma fam\u00edlia de polin\u00f4mios m\u00f4nicos $\\{p_0(x),\\dots, p_n(x)\\}$ satisfaz a seguinte rela\u00e7\u00e3o de recorr\u00eancia de segunda ordem.\n",
      "\n",
      "$$ p_{l+1}(x) = (x+A)p_{l}(x) + Bp_{l-1}(x) $$ \n",
      "\n",
      "onde $$A=\\frac{ -\\langle p_l,xp_l \\rangle}{\\langle p_l , p_l \\rangle } \\text{ e }B= \\frac{ -\\langle p_l,xp_{l-1} \\rangle}{\\langle p_{l-1} , p_{l-1} \\rangle }.$$\n",
      "\n",
      "**Prova** $p_{l+1}(x) - xp_l(x)$ \u00e9 um polin\u00f4mio de grau menor ou igual a l. Ent\u00e3o se escreve como $a_lp_l(x) + a_{l-1}p_{l-1}(x) + \\cdots + a_0$. Cada componente $a_i$ satisfaz a f\u00f3rmula:\n",
      "\n",
      "$$ a_i = \\frac{\\langle p_{l+1} - xp_l, p_i \\rangle}{\\langle p_i , p_i \\rangle} = \\frac{ -\\langle p_l,xp_i \\rangle}{\\langle p_i , p_i \\rangle }$$\n",
      "\n",
      "Este \u00faltimo termo s\u00f3 \u00e9 diferente de zero quando o grau de $xp_i$ for maior ou igual a $l$, ou seja, para $i=l-1$ e $i=l$. Assim\n",
      "$$ p_{l+1}(x) - xp_l(x) = Ap_l(x) + Bp_{l-1}(x) $$ da\u00ed segue o resultado."
     ]
    },
    {
     "cell_type": "code",
     "collapsed": false,
     "input": [
      "import numpy as np\n",
      "def PoliOrt(T):\n",
      "    ''' devolve os polin\u00f4mios monicos ortogonais em rela\u00e7\u00e3o \u00e0 tabela T''' "
     ],
     "language": "python",
     "metadata": {},
     "outputs": []
    }
   ],
   "metadata": {}
  }
 ]
}